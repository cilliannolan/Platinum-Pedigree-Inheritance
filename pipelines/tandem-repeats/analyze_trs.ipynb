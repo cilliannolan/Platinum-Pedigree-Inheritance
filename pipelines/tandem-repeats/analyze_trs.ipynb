{
 "cells": [
  {
   "cell_type": "markdown",
   "id": "b5dd7c5f-ba02-49b1-b7e5-59be22dd0f3a",
   "metadata": {},
   "source": [
    "# TR analysis workflow"
   ]
  },
  {
   "cell_type": "markdown",
   "id": "4efb3ff2-b51a-4d72-a2d5-eff283c5ca78",
   "metadata": {},
   "source": [
    "## Perform initial filtering"
   ]
  },
  {
   "cell_type": "code",
   "execution_count": 24,
   "id": "4bfb0425-1909-4574-a06f-705580d0a137",
   "metadata": {},
   "outputs": [],
   "source": [
    "import gzip\n",
    "from collections import namedtuple\n",
    "from collections import Counter\n",
    "import numpy as np\n",
    "\n",
    "import matplotlib.pyplot as plt\n",
    "%matplotlib inline\n",
    "plt.rcParams['figure.figsize'] = [16.5, 5]\n",
    "plt.rcParams['font.size'] = 12\n",
    "plt.rcParams['pdf.fonttype'] = 42\n",
    "plt.rcParams['ps.fonttype'] = 42"
   ]
  },
  {
   "cell_type": "code",
   "execution_count": 3,
   "id": "c3bc0ec4-ed4b-435f-933b-0263426201b6",
   "metadata": {},
   "outputs": [],
   "source": [
    "joint_vcf = \"../../../palladium-vcf/10_trgt/output/merged.vcf.gz\"\n",
    "passed_vcf = \"output/filtered.vcf.gz\"\n",
    "consistent_vcf = \"output/consistent.vcf.gz\"\n",
    "inheritance_vector_path = \"/home/edolzhenko/flash/2024/Q2/palladium/000_ivecs.grch38.csv\""
   ]
  },
  {
   "cell_type": "code",
   "execution_count": null,
   "id": "213ec192-70ae-4e0e-9d30-d26ed28ccf7d",
   "metadata": {},
   "outputs": [],
   "source": []
  },
  {
   "cell_type": "code",
   "execution_count": 6,
   "id": "6706bfcd-df3b-481b-8dcb-dcbcad6e0c09",
   "metadata": {},
   "outputs": [],
   "source": [
    "TrAllele = namedtuple(\"TrAllele\", \"seq purity meth\")\n",
    "Locus = namedtuple(\"Locus\", \"chrom start end\")\n",
    "TrRec = namedtuple(\"TrRec\", \"trid locus motifs gts\")\n",
    "\n",
    "def get_vcf_rec(vcf_path):\n",
    "    with gzip.open(vcf_path, \"rb\") as file:\n",
    "        for line in file:\n",
    "            line = line.decode(\"ascii\")\n",
    "            sl = line.split()\n",
    "            if line.startswith(\"#CHROM\"):\n",
    "                index = sl.index(\"FORMAT\") + 1\n",
    "                samples = sl[index:]\n",
    "                continue\n",
    "            if line[0] == \"#\":\n",
    "                continue\n",
    "            trid = sl[7].split(\";\")[0].replace(\"TRID=\", \"\")\n",
    "            motifs = sl[7].split(\";\")[-2].replace(\"MOTIFS=\", \"\").split()\n",
    "            chrom = sl[0]\n",
    "            start = int(sl[1])\n",
    "            end = int(sl[7].split(\";\")[1].replace(\"END=\", \"\"))\n",
    "            locus = Locus(chrom, start, end)\n",
    "            alleles = [sl[3]]  # Start with the ref allele\n",
    "            alleles.extend(sl[4].split(\",\"))  # And then extend with alts\n",
    "            alleles = [a[1:] for a in alleles] # Remove padding base\n",
    "            gts = {sample: [] for sample in samples}\n",
    "            for sample, rec in zip(samples, sl[9:]):\n",
    "                rec = rec.split(\":\")\n",
    "                al_idxs = [int(idx) if idx != \".\" else None for idx in rec[0].split(\"/\")]\n",
    "                aps = [float(val) if val != \".\" else None for val in rec[-2].split(\",\")]\n",
    "                ams = [float(val) if val != \".\" else None for val in rec[-1].split(\",\")]\n",
    "                for al_idx, ap, am in zip(al_idxs, aps, ams):\n",
    "                    if al_idx is None:\n",
    "                        break\n",
    "                    seq = alleles[al_idx]\n",
    "                    allele = TrAllele(seq, ap, am)\n",
    "                    gts[sample].append(allele)\n",
    "            yield TrRec(trid, locus, motifs, gts)"
   ]
  },
  {
   "cell_type": "code",
   "execution_count": null,
   "id": "16f2cc69-4a2d-420f-a72b-eaedcc837095",
   "metadata": {},
   "outputs": [],
   "source": []
  },
  {
   "cell_type": "code",
   "execution_count": 99,
   "id": "288e206f-8e97-43ef-936b-fa250a3c8761",
   "metadata": {},
   "outputs": [
    {
     "name": "stdout",
     "output_type": "stream",
     "text": [
      "Num trs processed = 7722730; left after filtering = 650610\n"
     ]
    }
   ],
   "source": [
    "passed_trs = set()\n",
    "total_trs = 0\n",
    "num_passed = 0\n",
    "\n",
    "for index, rec in enumerate(get_vcf_rec(joint_vcf)):\n",
    "    all_alleles = []\n",
    "    all_purities = []\n",
    "    for sample, alleles in rec.gts.items():\n",
    "        all_alleles.extend([a.seq for a in alleles])\n",
    "        all_purities.extend([a.purity for a in alleles if a.purity])\n",
    "\n",
    "    total_trs += 1\n",
    "\n",
    "    # Skip repeats with at least one missing genotype \n",
    "    if len([gt for sample, gt in rec.gts.items() if gt]) != 10:\n",
    "        continue\n",
    "\n",
    "    # Skip repeats where at least one allele missing purity\n",
    "    if len(all_alleles) != len(all_purities):\n",
    "        continue\n",
    "\n",
    "    # Skip repeats with very low purity\n",
    "    if np.mean(all_purities) < 0.5:\n",
    "        continue\n",
    "\n",
    "    # Skip repeats with singleton alleles since these are\n",
    "    # enriched in errors or de novos\n",
    "    count_by_allele = Counter(all_alleles)\n",
    "    min_count = min(count_by_allele.values())\n",
    "    if min_count == 1:\n",
    "        continue\n",
    "\n",
    "    # Skip non-polymorphic repeats\n",
    "    if len(count_by_allele) == 1:\n",
    "        continue\n",
    "\n",
    "    # Skip repeats with very short alleles\n",
    "    longest_allele = max(len(a) for a in all_alleles)\n",
    "    if longest_allele < 10:\n",
    "        continue\n",
    "\n",
    "    passed_trs.add(rec.trid)\n",
    "    num_passed += 1\n",
    "\n",
    "print(f\"Num trs processed = {total_trs}; left after filtering = {num_passed}\")"
   ]
  },
  {
   "cell_type": "code",
   "execution_count": 6,
   "id": "64b9261f-405c-41a0-ad97-26e4f1d86b4f",
   "metadata": {},
   "outputs": [],
   "source": [
    "# Num trs processed = 7717950; left after filtering = 655692"
   ]
  },
  {
   "cell_type": "markdown",
   "id": "c811f6c0-76dd-42d8-83c9-cb242d6cbe51",
   "metadata": {},
   "source": [
    "## Generate VCF with filtered TRs"
   ]
  },
  {
   "cell_type": "code",
   "execution_count": 100,
   "id": "c1488ba2-0aaf-4fcb-935d-c9b408ffc601",
   "metadata": {},
   "outputs": [],
   "source": [
    "def subset_vcf(input_vcf, output_vcf, trids_to_keep):\n",
    "    with gzip.open(input_vcf, \"rb\") as infile, gzip.open(output_vcf, \"wb\") as outfile:\n",
    "            for line in infile:\n",
    "                if chr(line[0]) != \"#\":\n",
    "                    sl = line.decode(\"ascii\").split()\n",
    "                    trid = sl[7].split(\";\")[0].replace(\"TRID=\", \"\")\n",
    "                    if trid not in trids_to_keep:\n",
    "                        continue\n",
    "                outfile.write(line)\n",
    "\n",
    "#subset_vcf(joint_vcf, passed_vcf, passed_trs)"
   ]
  },
  {
   "cell_type": "markdown",
   "id": "03394687-64e2-4894-a563-ac9e242910f1",
   "metadata": {},
   "source": [
    "## Generate a VCF file with consistent TRs"
   ]
  },
  {
   "cell_type": "code",
   "execution_count": 52,
   "id": "57f78a1a-549d-488a-8678-d7020235f534",
   "metadata": {},
   "outputs": [
    {
     "data": {
      "text/plain": [
       "<module 'helpers.consistency' from '/pbi/flash/edolzhenko/2024/Q2/PlatinumPedigree/pipelines/tandem-repeats/helpers/consistency.py'>"
      ]
     },
     "execution_count": 52,
     "metadata": {},
     "output_type": "execute_result"
    }
   ],
   "source": [
    "import importlib\n",
    "import helpers.consistency as cons\n",
    "\n",
    "importlib.reload(cons)"
   ]
  },
  {
   "cell_type": "code",
   "execution_count": 53,
   "id": "32819c68-0f0b-4d01-89c5-fc888f797207",
   "metadata": {},
   "outputs": [],
   "source": [
    "ivecs = cons.load_ivecs(inheritance_vector_path)"
   ]
  },
  {
   "cell_type": "code",
   "execution_count": 54,
   "id": "1720a133-2e06-4091-bbbd-3ed4de7fee19",
   "metadata": {},
   "outputs": [],
   "source": [
    "def get_ivec(inheritance_vecs, locus):\n",
    "    for inheritance_vec in inheritance_vecs:\n",
    "        if inheritance_vec[\"chrom\"] == locus.chrom and inheritance_vec[\"start\"] <= locus.start and locus.end <= inheritance_vec[\"end\"]:\n",
    "            return inheritance_vec\n",
    "    return None\n",
    "\n",
    "\n",
    "def summarize(hap_to_dists):\n",
    "    num_imperfect = 0\n",
    "    max_error = 0\n",
    "    total_dist = 0\n",
    "    for hap, dists in hap_to_dists.items():\n",
    "        if not dists:\n",
    "            continue\n",
    "        if max(dists) != 0:\n",
    "            num_imperfect += 1\n",
    "        allele_error = (len(dists) - dists.count(0)) / len(dists)\n",
    "        max_error = max(max_error, allele_error)\n",
    "        total_dist += sum(dists)\n",
    "\n",
    "    return num_imperfect, max_error, total_dist"
   ]
  },
  {
   "cell_type": "code",
   "execution_count": 61,
   "id": "952974d6-dc99-4587-ad41-b56073f69b19",
   "metadata": {},
   "outputs": [],
   "source": [
    "def get_alleles(gts):\n",
    "    alleles = []\n",
    "    for sample, gt in gts.items():\n",
    "        alleles.extend(gt)\n",
    "    return alleles\n",
    "\n",
    "\n",
    "consistent_trids = set()\n",
    "num_skipped = 0\n",
    "with open(\"output/summary_table.txt\", \"w\") as file:\n",
    "    for index, rec in enumerate(get_vcf_rec(passed_vcf)):\n",
    "        # TODO: Confirm that all Trs have been genotyped\n",
    "\n",
    "        is_consistent = False\n",
    "        ivec = get_ivec(ivecs, rec.locus)\n",
    "        # Count loci not covered by inheritance vectors as inconsistent\n",
    "        if ivec is not None:\n",
    "            candidates = cons.get_candidates(ivec, rec.gts)\n",
    "            assign, hap_to_dists = cons.get_best_assign(ivec, rec.gts, candidates)\n",
    "            num_imperfect, max_error, total_dist = summarize(hap_to_dists)\n",
    "            is_consistent = num_imperfect == 0\n",
    "        if is_consistent:\n",
    "            consistent_trids.add(rec.trid)\n",
    "\n",
    "        alleles = get_alleles(rec.gts)\n",
    "        lens = [len(a.seq) for a in alleles]\n",
    "        purities = [a.purity for a in alleles if a.purity is not None]\n",
    "        meths = [a.meth for a in alleles if a.meth is not None]\n",
    "        region = f\"{rec.locus.chrom}:{rec.locus.start}-{rec.locus.end}\"\n",
    "        motifs = \",\".join(rec.motifs)\n",
    "        mean_len = f\"{np.mean(lens):.2f}\" if len(lens) != 0 else \"NA\"\n",
    "        mean_purity = f\"{np.mean(purities):.2f}\" if len(purities) != 0 else \"NA\"\n",
    "        mean_meth = f\"{np.mean(meths):.2f}\" if len(meths) != 0 else \"NA\"\n",
    "        consistent = \"CONS\" if is_consistent else \"DISC\"\n",
    "        print(f\"{rec.trid}\\t{region}\\t{motifs}\\t{mean_len}\\t{mean_purity}\\t{mean_meth}\\t{consistent}\", file=file)"
   ]
  },
  {
   "cell_type": "code",
   "execution_count": 62,
   "id": "919055af-0807-449a-8847-68b4ecf7313f",
   "metadata": {},
   "outputs": [
    {
     "name": "stdout",
     "output_type": "stream",
     "text": [
      " 523278 CONS\n",
      " 127332 DISC\n"
     ]
    }
   ],
   "source": [
    "! cut -f 7 output/summary_table.txt | sort | uniq -c"
   ]
  },
  {
   "cell_type": "code",
   "execution_count": 116,
   "id": "2247a7c1-6350-4b57-b594-ca8a82b22a97",
   "metadata": {},
   "outputs": [],
   "source": [
    "#print(f\"TRs total = {total_trs}; consistent TRs = {len(consistent_trids)}; skipped TRs: {num_skipped}\")"
   ]
  },
  {
   "cell_type": "code",
   "execution_count": 75,
   "id": "116fa335-27cc-4e4b-b9a5-98ab3970c1ce",
   "metadata": {},
   "outputs": [],
   "source": [
    "#subset_vcf(passed_vcf, consistent_vcf, consistent_trids)"
   ]
  },
  {
   "cell_type": "markdown",
   "id": "1c0b697c-975f-43bc-8412-b4e204200da0",
   "metadata": {},
   "source": [
    "## Study general properties of TRs"
   ]
  },
  {
   "cell_type": "code",
   "execution_count": 30,
   "id": "4f4a69a3-9a0c-457c-897f-6d115062bdef",
   "metadata": {},
   "outputs": [],
   "source": [
    "plt.rc(\"image\", cmap=\"Dark2\")"
   ]
  },
  {
   "cell_type": "code",
   "execution_count": 31,
   "id": "84563620-be52-4e95-9544-8d7ab2dbec0c",
   "metadata": {},
   "outputs": [],
   "source": [
    "TrSummary = namedtuple(\"TrSummary\", \"trid locus motifs mean_len mean_purity mean_meth is_consistent\")\n",
    "\n",
    "def get_summary_rec():\n",
    "    with open(\"output/summary_table.txt\", \"r\") as file:\n",
    "        for line in file:\n",
    "            trid, locus, motifs, mean_len, mean_purity, mean_meth, is_consistent = line.split()\n",
    "            chrom, start, end = locus.replace(\":\", \"-\").split(\"-\")\n",
    "            start, end = int(start), int(end)\n",
    "            locus = Locus(chrom, start, end)\n",
    "            motifs = motifs.split(\",\")\n",
    "            mean_len = float(mean_len)\n",
    "            mean_purity = float(mean_purity) if mean_purity != \"NA\" else None\n",
    "            mean_meth = float(mean_meth) if mean_meth != \"NA\" else None\n",
    "            assert is_consistent in [\"DISC\", \"CONS\"]\n",
    "            is_consistent = is_consistent == \"CONS\"\n",
    "            yield TrSummary(trid, locus, motifs, mean_len, mean_purity, mean_meth, is_consistent)"
   ]
  },
  {
   "cell_type": "code",
   "execution_count": 32,
   "id": "a1d28f37-8aa9-4741-ad55-6d5a948149b6",
   "metadata": {},
   "outputs": [
    {
     "data": {
      "text/plain": [
       "Text(0, 0.5, 'Mean allele purity')"
      ]
     },
     "execution_count": 32,
     "metadata": {},
     "output_type": "execute_result"
    },
    {
     "data": {
      "image/png": "[encoded data removed]",
      "text/plain": [
       "<Figure size 1000x300 with 3 Axes>"
      ]
     },
     "metadata": {},
     "output_type": "display_data"
    }
   ],
   "source": [
    "mean_allele_lens = []\n",
    "trs_by_motif = [0 for motif in range(0, 5)]\n",
    "purities_by_motif = [[] for motif in range(0, 5)]\n",
    "num_composite = 0\n",
    "simple_mcs = []\n",
    "composite_mcs = []\n",
    "\n",
    "\n",
    "for rec in get_summary_rec():\n",
    "    mean_allele_lens.append(min(rec.mean_len, 500))\n",
    "    num_motifs = len(rec.motifs)\n",
    "    trs_by_motif[num_motifs - 1] += 1\n",
    "\n",
    "    if num_motifs > 1:\n",
    "        num_composite += 1\n",
    "        composite_mcs.append(rec.mget_summary_rec()ean_len)\n",
    "    else:\n",
    "        simple_mcs.append(rec.mean_len)\n",
    "    \n",
    "    purities_by_motif[num_motifs - 1].append(rec.mean_purity)\n",
    "    \n",
    "    \n",
    "trs_by_motif = [count / sum(trs_by_motif) for count in trs_by_motif]\n",
    "\n",
    "fig, (ax0, ax1, ax2) = plt.subplots(ncols=3, nrows=1, figsize=(10, 3))\n",
    "\n",
    "ax0.hist(mean_allele_lens, bins=100)\n",
    "ax0.set_xlabel(\"Mean allele length (bps)\")\n",
    "ax0.set_xticks([0, 100, 200, 300, 400, 500])\n",
    "ax0.set_ylabel(\"TR count\")\n",
    "ax1.bar([1, 2, 3, 4, 5], trs_by_motif)\n",
    "ax1.set_xticks([1, 2, 3, 4, 5])\n",
    "ax1.set_xlabel(\"Number of distinct motifs\")\n",
    "ax1.set_ylabel(\"TR fraction\")\n",
    "ax2.boxplot(purities_by_motif, showfliers=False)\n",
    "ax2.set_xlabel(\"Number of distinct motifs\")\n",
    "ax2.set_ylabel(\"Mean allele purity\")\n",
    "\n",
    "#plt.savefig(\"output/summary_figure/panels_a-c.pdf\");"
   ]
  },
  {
   "cell_type": "code",
   "execution_count": 38,
   "id": "d9e5473b-293e-4c04-a03a-f747f695e39f",
   "metadata": {},
   "outputs": [
    {
     "data": {
      "image/png": "[encoded data removed]",
      "text/plain": [
       "<Figure size 1000x300 with 3 Axes>"
      ]
     },
     "metadata": {},
     "output_type": "display_data"
    }
   ],
   "source": [
    "def plot_bars(ax, x_by_y, title_x, title_y, width):\n",
    "    xs = sorted(x_by_y)\n",
    "    ys = [x_by_y[x][\"cons\"] / x_by_y[x][\"total\"] for x in xs]\n",
    "    ax.bar(xs, ys, width=width)\n",
    "    ax.set_xlabel(title_x)\n",
    "    ax.set_ylabel(title_y)\n",
    "\n",
    "\n",
    "cons_by_len = {x : {\"cons\": 0, \"total\" : 0} for x in range(0, 1000 + 1, 50)}\n",
    "cons_by_motif = {x : {\"cons\": 0, \"total\" : 0} for x in range(1, 20 + 1)}\n",
    "cons_by_purity = {x : {\"cons\": 0, \"total\" : 0} for x in range(50, 100 + 1)}\n",
    "\n",
    "for rec in get_summary_rec():\n",
    "    #print(summary)\n",
    "    mean_len = min(50 * round(rec.mean_len / 50), 1000)\n",
    "    motif_len = min(len(motif) for motif in rec.motifs)\n",
    "    motif_len = min(motif_len, 20)\n",
    "    purity = round(100 * rec.mean_purity)\n",
    "    if rec.is_consistent:\n",
    "        cons_by_len[mean_len][\"cons\"] += 1\n",
    "        cons_by_motif[motif_len][\"cons\"] += 1\n",
    "        cons_by_purity[purity][\"cons\"] += 1\n",
    "    cons_by_motif[motif_len][\"total\"] += 1\n",
    "    cons_by_len[mean_len][\"total\"] += 1\n",
    "    cons_by_purity[purity][\"total\"] += 1\n",
    "\n",
    "    \n",
    "\n",
    "fig, (ax0, ax1, ax2) = plt.subplots(ncols=3, nrows=1, figsize=(10, 3), sharey=True)\n",
    "\n",
    "plot_bars(ax0, cons_by_len, \"Mean allele length\", \"Fraction of consistent TRs\", 42)\n",
    "plot_bars(ax1, cons_by_motif, \"Motif length\", \"Fraction of consistent TRs\", 0.7)\n",
    "plot_bars(ax2, cons_by_purity, \"Repeat purity (%)\", \"Fraction of consistent TRs\", 0.8)\n",
    "plt.savefig(\"output/summary_figure/panels_d-f.pdf\");"
   ]
  },
  {
   "cell_type": "code",
   "execution_count": null,
   "id": "1499a632-d118-428d-b129-e96aa3dbc761",
   "metadata": {},
   "outputs": [],
   "source": []
  },
  {
   "cell_type": "code",
   "execution_count": 44,
   "id": "03b7f149",
   "metadata": {},
   "outputs": [],
   "source": [
    "struct_by_len = {}\n",
    "purities_by_len = {}\n",
    "\n",
    "for rec in get_summary_rec():\n",
    "    if not rec.is_consistent:\n",
    "        continue\n",
    "\n",
    "    length = 25 * round(rec.mean_len / 25)\n",
    "    length = min(length, 1000)\n",
    "\n",
    "    if length not in struct_by_len:\n",
    "        struct_by_len[length] = {\"total\": 0, \"homs\": 0, \"dinucs\": 0, \"other_simple\": 0, \"complex\": 0}\n",
    "        purities_by_len[length] = []\n",
    "    struct_by_len[length][\"total\"] += 1\n",
    "    purities_by_len[length].append(rec.mean_purity)\n",
    "\n",
    "    if len(rec.motifs) == 1 and len(rec.motifs[0]) == 1:\n",
    "        struct_by_len[length][\"homs\"] += 1\n",
    "    elif len(rec.motifs) == 1 and len(rec.motifs[0]) == 2:\n",
    "        struct_by_len[length][\"dinucs\"] += 1\n",
    "    elif len(rec.motifs) == 1:\n",
    "        struct_by_len[length][\"other_simple\"] += 1\n",
    "    else:\n",
    "        struct_by_len[length][\"complex\"] += 1"
   ]
  },
  {
   "cell_type": "code",
   "execution_count": 45,
   "id": "ba0806f4",
   "metadata": {},
   "outputs": [
    {
     "data": {
      "text/plain": [
       "Text(0, 0.5, 'TR purity')"
      ]
     },
     "execution_count": 45,
     "metadata": {},
     "output_type": "execute_result"
    },
    {
     "data": {
      "image/png": "[encoded data removed]",
      "text/plain": [
       "<Figure size 600x500 with 2 Axes>"
      ]
     },
     "metadata": {},
     "output_type": "display_data"
    }
   ],
   "source": [
    "fig, (ax0, ax1) = plt.subplots(ncols=1, nrows=2, figsize=(6, 5), sharex=True)\n",
    "\n",
    "xs = sorted(struct_by_len)\n",
    "\n",
    "hom_ys = np.array([struct_by_len[x][\"homs\"] / struct_by_len[x][\"total\"] for x in xs])\n",
    "ax0.bar(xs, hom_ys, width=20, label=\"Homopolymers\")\n",
    "\n",
    "dinuc_ys = np.array([struct_by_len[x][\"dinucs\"] / struct_by_len[x][\"total\"] for x in xs])\n",
    "ax0.bar(xs, dinuc_ys, width=20, bottom=hom_ys, label=\"Dinucleotide\")\n",
    "\n",
    "simple_ys = np.array([struct_by_len[x][\"other_simple\"] / struct_by_len[x][\"total\"] for x in xs])\n",
    "ax0.bar(xs, simple_ys, width=20, bottom=hom_ys + dinuc_ys, label=\"Other simple\")\n",
    "\n",
    "complex_ys = np.array([struct_by_len[x][\"complex\"] / struct_by_len[x][\"total\"] for x in xs])\n",
    "ax0.bar(xs, complex_ys, width=20, bottom=hom_ys + dinuc_ys + simple_ys, label=\"Complex\")\n",
    "ax0.set_ylabel(\"TR fraction\")\n",
    "ax0.legend()\n",
    "\n",
    "purity_vals = [purities_by_len[x] for x in xs]\n",
    "ax1.boxplot(purity_vals, positions=xs, widths=20, showfliers=False)\n",
    "ax1.tick_params(axis='x', labelrotation=90)\n",
    "ax1.set_xlabel(\"TR length (bps)\")\n",
    "ax1.set_ylabel(\"TR purity\")\n",
    "#plt.savefig(\"struc_purity_by_len.pdf\")"
   ]
  },
  {
   "cell_type": "markdown",
   "id": "5628a21f",
   "metadata": {},
   "source": [
    "## Estimate of how much TR variation we expect to see per genome"
   ]
  },
  {
   "cell_type": "code",
   "execution_count": 86,
   "id": "1f0fcb4b",
   "metadata": {},
   "outputs": [],
   "source": [
    "sample_to_deltas = {}\n",
    "\n",
    "for rec in get_vcf_rec(joint_vcf):\n",
    "    if rec.trid not in consistent_trids:\n",
    "        continue\n",
    "    ref_len = rec.locus.end - rec.locus.start\n",
    "    for sample, gt in rec.gts.items():\n",
    "        if sample not in sample_to_deltas:\n",
    "            sample_to_deltas[sample] = {\"ins\": 0, \"del\": 0}\n",
    "        for allele in gt:\n",
    "            delta = len(allele.seq) - ref_len\n",
    "            if delta > 0:\n",
    "                sample_to_deltas[sample][\"ins\"] += delta\n",
    "            if delta < 0:\n",
    "                sample_to_deltas[sample][\"del\"] += abs(delta)"
   ]
  },
  {
   "cell_type": "code",
   "execution_count": 95,
   "id": "15b2c2d6",
   "metadata": {},
   "outputs": [
    {
     "name": "stdout",
     "output_type": "stream",
     "text": [
      "NA12877 2.498222 1.445521\n",
      "NA12878 2.506301 1.448374\n",
      "NA12879 2.535279 1.460462\n",
      "NA12881 2.539232 1.462342\n",
      "NA12882 2.427701 1.445201\n",
      "NA12883 2.447746 1.435449\n",
      "NA12884 2.463244 1.427675\n",
      "NA12885 2.459275 1.45763\n",
      "NA12886 2.426179 1.443535\n",
      "NA12887 2.530424 1.467992\n"
     ]
    }
   ],
   "source": [
    "inses = []\n",
    "dels = []\n",
    "for sample, deltas in sample_to_deltas.items():\n",
    "    total_ins = deltas[\"ins\"] / (10**6)\n",
    "    total_del = deltas[\"del\"] / (10**6)\n",
    "    inses.append(total_ins)\n",
    "    dels.append(total_del)\n",
    "    print(sample, total_ins, total_del)"
   ]
  },
  {
   "cell_type": "code",
   "execution_count": 96,
   "id": "79c5712c",
   "metadata": {},
   "outputs": [
    {
     "data": {
      "text/plain": [
       "2.4833603"
      ]
     },
     "execution_count": 96,
     "metadata": {},
     "output_type": "execute_result"
    }
   ],
   "source": [
    "np.mean(inses)"
   ]
  },
  {
   "cell_type": "code",
   "execution_count": 97,
   "id": "3823d84e-a51e-4f0d-80dd-6c025c20659c",
   "metadata": {},
   "outputs": [
    {
     "data": {
      "text/plain": [
       "1.4494181000000002"
      ]
     },
     "execution_count": 97,
     "metadata": {},
     "output_type": "execute_result"
    }
   ],
   "source": [
    "np.mean(dels)"
   ]
  },
  {
   "cell_type": "markdown",
   "id": "107875b4",
   "metadata": {},
   "source": [
    "## Generate a karyoplot\n",
    "\n",
    "Here we just generate a BED file that will be visualized with `karyoploteR` R package. See the script `karyoplot.R`."
   ]
  },
  {
   "cell_type": "code",
   "execution_count": 107,
   "id": "d0c5a119",
   "metadata": {},
   "outputs": [],
   "source": [
    "with open(\"output/consistent_trs.bed\", \"w\") as cons_file, open(\"output/inconsistent_trs.bed\", \"w\") as incons_file:\n",
    "    for rec in get_summary_rec():\n",
    "        file = cons_file if rec.is_consistent else incons_file\n",
    "        print(f\"{rec.locus.chrom}\\t{rec.locus.start}\\t{rec.locus.end}\\t{rec.trid}\", file=file)"
   ]
  },
  {
   "cell_type": "code",
   "execution_count": 108,
   "id": "9927fe50",
   "metadata": {},
   "outputs": [
    {
     "name": "stdout",
     "output_type": "stream",
     "text": [
      "  523278 output/consistent_trs.bed\r\n",
      "  127332 output/inconsistent_trs.bed\r\n",
      "  650610 total\r\n"
     ]
    }
   ],
   "source": [
    "! wc -l output/consistent_trs.bed output/inconsistent_trs.bed"
   ]
  },
  {
   "cell_type": "code",
   "execution_count": null,
   "id": "21f8523d-3519-45d4-9fce-2eb0f9af3d06",
   "metadata": {},
   "outputs": [],
   "source": []
  },
  {
   "cell_type": "code",
   "execution_count": null,
   "id": "9daf992e",
   "metadata": {},
   "outputs": [],
   "source": []
  },
  {
   "cell_type": "code",
   "execution_count": null,
   "id": "185f57cc",
   "metadata": {},
   "outputs": [],
   "source": []
  }
 ],
 "metadata": {
  "kernelspec": {
   "display_name": "Python 3 (ipykernel)",
   "language": "python",
   "name": "python3"
  },
  "language_info": {
   "codemirror_mode": {
    "name": "ipython",
    "version": 3
   },
   "file_extension": ".py",
   "mimetype": "text/x-python",
   "name": "python",
   "nbconvert_exporter": "python",
   "pygments_lexer": "ipython3",
   "version": "3.10.8"
  }
 },
 "nbformat": 4,
 "nbformat_minor": 5
}
